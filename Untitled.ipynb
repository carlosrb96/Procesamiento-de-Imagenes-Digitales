{
 "cells": [
  {
   "cell_type": "code",
   "execution_count": 33,
   "metadata": {},
   "outputs": [],
   "source": [
    "import cv2\n",
    "import numpy as np\n",
    "from matplotlib import pyplot as plt\n",
    "from skimage import transform\n",
    "from scipy import signal\n",
    "\n",
    "img = cv2.imread('trafico.png',0)\n",
    "scale = 1\n",
    "delta = 0\n",
    "ddepth = cv2.CV_16S\n",
    "height = img.shape[0]\n",
    "width = img.shape[1]\n",
    "cv2.GaussianBlur(img,(7,7),0)\n",
    "\n",
    "grad_x = cv2.Sobel(img, ddepth, 1, 0, 1, scale=scale, delta=delta, borderType=cv2.BORDER_DEFAULT)\n",
    "\n",
    "grad_y = cv2.Sobel(img, ddepth, 0, 1, 1, scale=scale, delta=delta, borderType=cv2.BORDER_DEFAULT)\n",
    "\n",
    "\n",
    "abs_grad_x = cv2.convertScaleAbs(grad_x)\n",
    "abs_grad_y = cv2.convertScaleAbs(grad_y)\n",
    "\n",
    "\n",
    "grad = cv2.addWeighted(abs_grad_x, 0.5, abs_grad_y, 0.5, 0)\n",
    "\n",
    "\n",
    "cv2.imshow('gradiente', grad)\n",
    "cv2.waitKey(0)\n",
    "cv2.destroyAllWindows()"
   ]
  },
  {
   "cell_type": "code",
   "execution_count": 41,
   "metadata": {},
   "outputs": [],
   "source": [
    "tamkernel = len(img)//30\n",
    "if(tamkernel % 2 == 0):\n",
    "    tamkernel = tamkernel + 1\n",
    "midkernel = tamkernel//2\n",
    "kernel = (tamkernel,tamkernel)\n",
    "kernelh = np.zeros(kernel)\n",
    "kernelh[midkernel,:] = 1 #Máscara línea horizontal\n",
    "res_map = np.zeros((height, width, 4))\n",
    "for i in range(4):\n",
    "    ker = transform.rotate(kernelh, 45 * i)\n",
    "    cv2.imshow('mascara',ker)\n",
    "    cv2.waitKey(0)\n",
    "    cv2.destroyAllWindows()\n",
    "    res_map[:,:,i] = signal.convolve2d(grad,ker,mode ='same')\n",
    "    cv2.imshow('algo', res_map[:,:,i])\n",
    "    cv2.waitKey(0)\n",
    "    cv2.destroyAllWindows()\n",
    "    "
   ]
  },
  {
   "cell_type": "code",
   "execution_count": null,
   "metadata": {},
   "outputs": [],
   "source": []
  }
 ],
 "metadata": {
  "kernelspec": {
   "display_name": "Python 3",
   "language": "python",
   "name": "python3"
  },
  "language_info": {
   "codemirror_mode": {
    "name": "ipython",
    "version": 3
   },
   "file_extension": ".py",
   "mimetype": "text/x-python",
   "name": "python",
   "nbconvert_exporter": "python",
   "pygments_lexer": "ipython3",
   "version": "3.8.5"
  }
 },
 "nbformat": 4,
 "nbformat_minor": 4
}
