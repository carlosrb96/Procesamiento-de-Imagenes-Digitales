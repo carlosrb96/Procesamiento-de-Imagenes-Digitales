{
 "cells": [
  {
   "cell_type": "code",
   "execution_count": 6,
   "metadata": {},
   "outputs": [],
   "source": [
    "import cv2\n",
    "import numpy as np\n",
    "from matplotlib import pyplot as plt\n",
    "from skimage import transform\n",
    "from scipy import signal\n",
    "\n",
    "#Lectura de la imagen\n",
    "img = cv2.imread('trafico.png',0)\n",
    "#Suavizado de la imagen\n",
    "cv2.GaussianBlur(img,(5,5),0)\n",
    "#Cálculo del gradiente usando Sobel\n",
    "scale = 1\n",
    "delta = 0\n",
    "ddepth = cv2.CV_16S\n",
    "height = img.shape[0]\n",
    "width = img.shape[1]\n",
    "\n",
    "\n",
    "grad_x = cv2.Sobel(img, ddepth, 1, 0, 1, scale=scale, delta=delta, borderType=cv2.BORDER_DEFAULT)\n",
    "\n",
    "grad_y = cv2.Sobel(img, ddepth, 0, 1, 1, scale=scale, delta=delta, borderType=cv2.BORDER_DEFAULT)\n",
    "\n",
    "\n",
    "abs_grad_x = cv2.convertScaleAbs(grad_x)\n",
    "abs_grad_y = cv2.convertScaleAbs(grad_y)\n",
    "\n",
    "\n",
    "grad = cv2.addWeighted(abs_grad_x, 0.5, abs_grad_y, 0.5, 0) #Este es el valor G en la Fig. 2 del artículo\n",
    "\n",
    "\n",
    "cv2.imshow('gradiente', grad)\n",
    "cv2.waitKey(0)\n",
    "cv2.destroyAllWindows()"
   ]
  },
  {
   "cell_type": "code",
   "execution_count": 26,
   "metadata": {},
   "outputs": [],
   "source": [
    "#A partir de G calcularemos el clasificador C y posteriormente la forma en pinceladas S de nuestra imagen \n",
    "#Primero aplicaremos unas máscaras de tamaño 1/30 la altura de la imagen. Esas máscaras consisten en una línea centrada\n",
    "#En diferentes ángulos\n",
    "tamkernel = (8 * 2) + 1 \n",
    "if(tamkernel % 2 == 0):\n",
    "    tamkernel = tamkernel + 1\n",
    "midkernel = tamkernel//2\n",
    "kernel = (tamkernel,tamkernel)\n",
    "kernelh = np.zeros(kernel)\n",
    "kernelh[midkernel,:] = 1 #Máscara línea horizontal\n",
    "res_map = np.zeros((height, width, 8)) #Aquí guardaremos las distintas convoluciones de las máscaras con nuestra imagen procesada\n",
    "for i in range(8):\n",
    "    ker = transform.rotate(kernelh, (180 * i)/8)\n",
    "    cv2.imshow('mascara',ker)\n",
    "    cv2.waitKey(0)\n",
    "    cv2.destroyAllWindows()\n",
    "    res_map[:,:,i] = signal.convolve2d(grad,ker,mode ='same')\n",
    "    cv2.imshow('algo', res_map[:,:,i])\n",
    "    cv2.waitKey(0)\n",
    "    cv2.destroyAllWindows()\n",
    "    "
   ]
  },
  {
   "cell_type": "code",
   "execution_count": 25,
   "metadata": {},
   "outputs": [
    {
     "name": "stdout",
     "output_type": "stream",
     "text": [
      "8\n",
      "[[0. 0. 0. 0. 0. 0. 0. 0. 0. 0. 0. 0. 0. 0. 0. 0. 0.]\n",
      " [0. 0. 0. 0. 0. 0. 0. 0. 0. 0. 0. 0. 0. 0. 0. 0. 0.]\n",
      " [0. 0. 0. 0. 0. 0. 0. 0. 0. 0. 0. 0. 0. 0. 0. 0. 0.]\n",
      " [0. 0. 0. 0. 0. 0. 0. 0. 0. 0. 0. 0. 0. 0. 0. 0. 0.]\n",
      " [0. 0. 0. 0. 0. 0. 0. 0. 0. 0. 0. 0. 0. 0. 0. 0. 0.]\n",
      " [0. 0. 0. 0. 0. 0. 0. 0. 0. 0. 0. 0. 0. 0. 0. 0. 0.]\n",
      " [0. 0. 0. 0. 0. 0. 0. 0. 0. 0. 0. 0. 0. 0. 0. 0. 0.]\n",
      " [0. 0. 0. 0. 0. 0. 0. 0. 0. 0. 0. 0. 0. 0. 0. 0. 0.]\n",
      " [1. 1. 1. 1. 1. 1. 1. 1. 1. 1. 1. 1. 1. 1. 1. 1. 1.]\n",
      " [0. 0. 0. 0. 0. 0. 0. 0. 0. 0. 0. 0. 0. 0. 0. 0. 0.]\n",
      " [0. 0. 0. 0. 0. 0. 0. 0. 0. 0. 0. 0. 0. 0. 0. 0. 0.]\n",
      " [0. 0. 0. 0. 0. 0. 0. 0. 0. 0. 0. 0. 0. 0. 0. 0. 0.]\n",
      " [0. 0. 0. 0. 0. 0. 0. 0. 0. 0. 0. 0. 0. 0. 0. 0. 0.]\n",
      " [0. 0. 0. 0. 0. 0. 0. 0. 0. 0. 0. 0. 0. 0. 0. 0. 0.]\n",
      " [0. 0. 0. 0. 0. 0. 0. 0. 0. 0. 0. 0. 0. 0. 0. 0. 0.]\n",
      " [0. 0. 0. 0. 0. 0. 0. 0. 0. 0. 0. 0. 0. 0. 0. 0. 0.]\n",
      " [0. 0. 0. 0. 0. 0. 0. 0. 0. 0. 0. 0. 0. 0. 0. 0. 0.]]\n"
     ]
    }
   ],
   "source": [
    "tamkernel = (8 * 2) + 1\n",
    "midkernel = (tamkernel -1)//2\n",
    "print(midkernel)\n",
    "kernel = (tamkernel,tamkernel)\n",
    "kernelh = np.zeros(kernel)\n",
    "kernelh[midkernel,:] = 1 #Máscara línea horizontal\n",
    "print(kernelh)\n",
    "ddepth =-1\n",
    "\n",
    "kernel = np.ones((5,5),np.float32)/25\n",
    "\n",
    "#dst = cv2.filter2D(grad,-1,kernel)\n",
    "dst = signal.convolve2d(grad,kernelh,mode ='same')\n",
    "cv2.imshow('resultado',dst)\n",
    "cv2.waitKey(0)\n",
    "cv2.destroyAllWindows()"
   ]
  },
  {
   "cell_type": "code",
   "execution_count": null,
   "metadata": {},
   "outputs": [],
   "source": []
  }
 ],
 "metadata": {
  "kernelspec": {
   "display_name": "Python 3",
   "language": "python",
   "name": "python3"
  },
  "language_info": {
   "codemirror_mode": {
    "name": "ipython",
    "version": 3
   },
   "file_extension": ".py",
   "mimetype": "text/x-python",
   "name": "python",
   "nbconvert_exporter": "python",
   "pygments_lexer": "ipython3",
   "version": "3.8.5"
  }
 },
 "nbformat": 4,
 "nbformat_minor": 4
}
